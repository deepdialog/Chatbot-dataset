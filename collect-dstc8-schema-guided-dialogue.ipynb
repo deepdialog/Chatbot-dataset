{
 "cells": [
  {
   "cell_type": "code",
   "execution_count": 37,
   "metadata": {},
   "outputs": [],
   "source": [
    "import os\n",
    "import json\n",
    "from tqdm import tqdm"
   ]
  },
  {
   "cell_type": "code",
   "execution_count": 46,
   "metadata": {},
   "outputs": [
    {
     "name": "stderr",
     "output_type": "stream",
     "text": [
      "100%|██████████| 128/128 [00:09<00:00, 13.78it/s]\n"
     ]
    }
   ],
   "source": [
    "root = 'dstc8-schema-guided-dialogue/train'\n",
    "intent_dialog = {}\n",
    "for f in tqdm(os.listdir(root)):\n",
    "    with open(os.path.join(root, f)) as fp:\n",
    "        obj = json.load(fp)\n",
    "    for o in obj:\n",
    "        if 'turns' not in o:\n",
    "            continue\n",
    "        turns = [\n",
    "            {\n",
    "                'intent': x['frames'][0]['actions'][0]['canonical_values'][0],\n",
    "                'utterance': x['utterance'],\n",
    "            }\n",
    "            for x in o['turns']\n",
    "            if x['speaker'] == 'USER' and x['frames'][0]['actions'][0]['slot'] == 'intent'\n",
    "        ]\n",
    "        for x in turns:\n",
    "            intent = x['intent']\n",
    "            dialog = x['utterance']\n",
    "            if intent not in intent_dialog:\n",
    "                intent_dialog[intent] = []\n",
    "            if dialog not in intent_dialog[intent]:\n",
    "                intent_dialog[intent].append(dialog)"
   ]
  },
  {
   "cell_type": "code",
   "execution_count": 47,
   "metadata": {},
   "outputs": [
    {
     "data": {
      "text/plain": [
       "dict_keys(['FindMovies', 'GetTimesForMovie', 'FindAttractions', 'SearchHotel', 'ReserveHotel', 'BuyBusTicket', 'SearchOnewayFlight', 'FindBus', 'GetRide', 'ReserveRestaurant', 'GetWeather', 'FindRestaurants', 'PlayMedia', 'ReserveCar', 'GetCarsAvailable', 'SearchRoundtripFlights', 'ReserveOnewayFlight', 'ReserveRoundtripFlights', 'FindApartment', 'ScheduleVisit', 'AddEvent', 'BuyEventTickets', 'GetAvailableTime', 'FindEvents', 'BookAppointment', 'FindProvider', 'GetEventDates', 'PlayMovie', 'TransferMoney', 'CheckBalance', 'BookHouse', 'SearchHouse', 'LookupSong', 'PlaySong', 'LookupMusic', 'GetEvents'])"
      ]
     },
     "execution_count": 47,
     "metadata": {},
     "output_type": "execute_result"
    }
   ],
   "source": [
    "intent_dialog.keys()"
   ]
  },
  {
   "cell_type": "code",
   "execution_count": 48,
   "metadata": {},
   "outputs": [],
   "source": [
    "import yaml\n",
    "with open('intent2.yaml', 'w') as fp:\n",
    "    fp.write(yaml.dump(intent_dialog))"
   ]
  },
  {
   "cell_type": "code",
   "execution_count": null,
   "metadata": {},
   "outputs": [],
   "source": []
  }
 ],
 "metadata": {
  "kernelspec": {
   "display_name": "Python 3",
   "language": "python",
   "name": "python3"
  },
  "language_info": {
   "codemirror_mode": {
    "name": "ipython",
    "version": 3
   },
   "file_extension": ".py",
   "mimetype": "text/x-python",
   "name": "python",
   "nbconvert_exporter": "python",
   "pygments_lexer": "ipython3",
   "version": "3.8.6"
  }
 },
 "nbformat": 4,
 "nbformat_minor": 4
}
