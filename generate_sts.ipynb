{
 "cells": [
  {
   "cell_type": "code",
   "execution_count": 1,
   "metadata": {},
   "outputs": [],
   "source": [
    "import random\n",
    "\n",
    "import yaml\n",
    "from tqdm import tqdm"
   ]
  },
  {
   "cell_type": "code",
   "execution_count": 2,
   "metadata": {},
   "outputs": [],
   "source": [
    "def sim(x, y):\n",
    "    a = set(x)\n",
    "    b = set(y)\n",
    "    return len(a & b) / len(a | b)"
   ]
  },
  {
   "cell_type": "code",
   "execution_count": 3,
   "metadata": {},
   "outputs": [],
   "source": [
    "def load_data(path):\n",
    "    intent = yaml.load(open(path).read(), Loader=yaml.Loader)\n",
    "    all_items = list(intent.items())\n",
    "    data = []\n",
    "    for k, v in tqdm(intent.items()):\n",
    "        for i in range(len(v)):\n",
    "            for j in range(i + 1, len(v)):\n",
    "                x1 = v[i]\n",
    "                x2 = v[j]\n",
    "                if x1 != x2 and sim(x1, x2) > 0.2:\n",
    "                    data.append((x1, x2, 1))\n",
    "                    while True:\n",
    "                        c = random.choice(all_items)\n",
    "                        if c[0] != k:\n",
    "                            data.append((x1, random.choice(c[1]), 0))\n",
    "                            break\n",
    "    return data"
   ]
  },
  {
   "cell_type": "code",
   "execution_count": 4,
   "metadata": {},
   "outputs": [
    {
     "name": "stderr",
     "output_type": "stream",
     "text": [
      "100%|██████████| 88/88 [00:00<00:00, 592.05it/s]\n",
      "100%|██████████| 36/36 [00:17<00:00,  2.01it/s]\n",
      "100%|██████████| 14/14 [00:51<00:00,  3.70s/it]\n"
     ]
    }
   ],
   "source": [
    "data = []\n",
    "data += load_data('intent.yaml_zh.yaml')\n",
    "data += load_data('intent2.yaml_zh.yaml')\n",
    "data += load_data('intent3.yaml_zh.yaml')"
   ]
  },
  {
   "cell_type": "code",
   "execution_count": 5,
   "metadata": {},
   "outputs": [
    {
     "data": {
      "text/plain": [
       "9776912"
      ]
     },
     "execution_count": 5,
     "metadata": {},
     "output_type": "execute_result"
    }
   ],
   "source": [
    "len(data)"
   ]
  },
  {
   "cell_type": "code",
   "execution_count": 7,
   "metadata": {},
   "outputs": [],
   "source": [
    "import pickle"
   ]
  },
  {
   "cell_type": "code",
   "execution_count": 10,
   "metadata": {},
   "outputs": [],
   "source": [
    "with open('data.tsv', 'w') as fp:\n",
    "    fp.write('\\n'.join(\n",
    "        x[0] + '\\t' + x[1] + '\\t' + str(x[2])\n",
    "        for x in data\n",
    "    ))"
   ]
  },
  {
   "cell_type": "code",
   "execution_count": 11,
   "metadata": {},
   "outputs": [
    {
     "name": "stdout",
     "output_type": "stream",
     "text": [
      "909M\tdata.tsv\r\n"
     ]
    }
   ],
   "source": [
    "!du -sh data.tsv"
   ]
  },
  {
   "cell_type": "code",
   "execution_count": 12,
   "metadata": {},
   "outputs": [
    {
     "name": "stdout",
     "output_type": "stream",
     "text": [
      "告诉我你的个性\t告诉我一些关于你的事情\t1\r\n",
      "告诉我你的个性\t给我一个游戏事实\t0\r\n",
      "告诉我你的个性\t你的个性是什么\t1\r\n",
      "告诉我你的个性\t晚安\t0\r\n",
      "你为什么在这\t你是做什么的\t1\r\n",
      "你为什么在这\t没问题\t0\r\n",
      "你为什么在这\t你的个性是什么\t1\r\n",
      "你为什么在这\t你太无聊了\t0\r\n",
      "说说你自己\t谈谈你自己\t1\r\n",
      "说说你自己\t你平时有什么娱乐活动\t0\r\n"
     ]
    }
   ],
   "source": [
    "!head data.tsv"
   ]
  },
  {
   "cell_type": "code",
   "execution_count": null,
   "metadata": {},
   "outputs": [],
   "source": []
  }
 ],
 "metadata": {
  "kernelspec": {
   "display_name": "Python 3",
   "language": "python",
   "name": "python3"
  },
  "language_info": {
   "codemirror_mode": {
    "name": "ipython",
    "version": 3
   },
   "file_extension": ".py",
   "mimetype": "text/x-python",
   "name": "python",
   "nbconvert_exporter": "python",
   "pygments_lexer": "ipython3",
   "version": "3.8.3"
  }
 },
 "nbformat": 4,
 "nbformat_minor": 4
}
