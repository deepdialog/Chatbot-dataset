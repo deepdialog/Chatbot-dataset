{
 "cells": [
  {
   "cell_type": "code",
   "execution_count": 1,
   "metadata": {},
   "outputs": [],
   "source": [
    "import os\n",
    "import json"
   ]
  },
  {
   "cell_type": "code",
   "execution_count": 2,
   "metadata": {},
   "outputs": [],
   "source": [
    "with open('nlu-benchmark/2016-12-built-in-intents/benchmark_data.json') as fp:\n",
    "    obj = json.load(fp)"
   ]
  },
  {
   "cell_type": "code",
   "execution_count": 4,
   "metadata": {},
   "outputs": [
    {
     "data": {
      "text/plain": [
       "dict"
      ]
     },
     "execution_count": 4,
     "metadata": {},
     "output_type": "execute_result"
    }
   ],
   "source": [
    "type(obj)"
   ]
  },
  {
   "cell_type": "code",
   "execution_count": 5,
   "metadata": {},
   "outputs": [
    {
     "data": {
      "text/plain": [
       "dict_keys(['domains', 'version'])"
      ]
     },
     "execution_count": 5,
     "metadata": {},
     "output_type": "execute_result"
    }
   ],
   "source": [
    "obj.keys()"
   ]
  },
  {
   "cell_type": "code",
   "execution_count": 8,
   "metadata": {},
   "outputs": [
    {
     "data": {
      "text/plain": [
       "list"
      ]
     },
     "execution_count": 8,
     "metadata": {},
     "output_type": "execute_result"
    }
   ],
   "source": [
    "type(obj['domains'])"
   ]
  },
  {
   "cell_type": "code",
   "execution_count": 43,
   "metadata": {},
   "outputs": [],
   "source": [
    "intent_lines = {}\n",
    "for domain in obj['domains']:\n",
    "    for intent in domain['intents']:\n",
    "        i = intent['benchmark']['Snips']['original_intent_name']\n",
    "        if i not in intent_lines:\n",
    "            intent_lines[i] = []\n",
    "        intent_lines[i] = sorted(set([\n",
    "            query['text']\n",
    "            for query in intent['queries']\n",
    "        ] + intent_lines[i]))"
   ]
  },
  {
   "cell_type": "code",
   "execution_count": 44,
   "metadata": {},
   "outputs": [
    {
     "data": {
      "text/plain": [
       "10"
      ]
     },
     "execution_count": 44,
     "metadata": {},
     "output_type": "execute_result"
    }
   ],
   "source": [
    "len(intent_lines)"
   ]
  },
  {
   "cell_type": "code",
   "execution_count": 45,
   "metadata": {},
   "outputs": [
    {
     "data": {
      "text/plain": [
       "dict_keys(['ShareCurrentLocation', 'ComparePlaces', 'GetPlaceDetails', 'SearchPlace', 'BookRestaurant', 'RequestRide', 'GetDirections', 'ShareETA', 'GetTrafficInformation', 'GetWeather'])"
      ]
     },
     "execution_count": 45,
     "metadata": {},
     "output_type": "execute_result"
    }
   ],
   "source": [
    "intent_lines.keys()"
   ]
  },
  {
   "cell_type": "code",
   "execution_count": 61,
   "metadata": {},
   "outputs": [],
   "source": [
    "intent_lines_list = []\n",
    "root = 'nlu-benchmark/2017-06-custom-intent-engines'\n",
    "for d in os.listdir(root):\n",
    "    if '.md' in d:\n",
    "        continue\n",
    "    sub_root = os.path.join(root, d)\n",
    "    subd = os.listdir(sub_root)\n",
    "    f = [x for x in subd if 'train_' in x and '_full.json' in x][0]\n",
    "    try:\n",
    "        with open(os.path.join(sub_root, f)) as fp:\n",
    "            obj = json.load(fp)\n",
    "    except:\n",
    "        continue\n",
    "    for intent, lines in obj.items():\n",
    "        for line in lines:\n",
    "            line = ''.join([x['text'] for x in line['data']])\n",
    "            intent_lines_list.append((intent, line))\n",
    "for intent, line in intent_lines_list:\n",
    "    if intent not in intent_lines:\n",
    "        intent_lines[intent] = []\n",
    "    if line not in intent_lines[intent]:\n",
    "        intent_lines[intent].append(line)"
   ]
  },
  {
   "cell_type": "code",
   "execution_count": 62,
   "metadata": {},
   "outputs": [
    {
     "data": {
      "text/plain": [
       "dict_keys(['ShareCurrentLocation', 'ComparePlaces', 'GetPlaceDetails', 'SearchPlace', 'BookRestaurant', 'RequestRide', 'GetDirections', 'ShareETA', 'GetTrafficInformation', 'GetWeather', 'SearchScreeningEvent', 'SearchCreativeWork', 'RateBook', 'AddToPlaylist'])"
      ]
     },
     "execution_count": 62,
     "metadata": {},
     "output_type": "execute_result"
    }
   ],
   "source": [
    "intent_lines.keys()"
   ]
  },
  {
   "cell_type": "code",
   "execution_count": 63,
   "metadata": {},
   "outputs": [],
   "source": [
    "import yaml\n",
    "with open('intent3.yaml', 'w') as fp:\n",
    "    fp.write(yaml.dump(intent_lines))"
   ]
  },
  {
   "cell_type": "code",
   "execution_count": null,
   "metadata": {},
   "outputs": [],
   "source": []
  }
 ],
 "metadata": {
  "kernelspec": {
   "display_name": "Python 3",
   "language": "python",
   "name": "python3"
  },
  "language_info": {
   "codemirror_mode": {
    "name": "ipython",
    "version": 3
   },
   "file_extension": ".py",
   "mimetype": "text/x-python",
   "name": "python",
   "nbconvert_exporter": "python",
   "pygments_lexer": "ipython3",
   "version": "3.8.6"
  }
 },
 "nbformat": 4,
 "nbformat_minor": 4
}
