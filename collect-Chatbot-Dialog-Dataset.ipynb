{
 "cells": [
  {
   "cell_type": "code",
   "execution_count": 22,
   "metadata": {
    "scrolled": false
   },
   "outputs": [],
   "source": [
    "import os\n",
    "\n",
    "intent_lines = {}\n",
    "root = 'Chatbot-Dialog-Dataset/Intents [Dialogs]/'\n",
    "for f in os.listdir(root):\n",
    "    with open(os.path.join(root, f)) as fp:\n",
    "        content = fp.read()\n",
    "    blocks = content.split('\\n\\n')\n",
    "    for x in blocks:\n",
    "        x = x.strip()\n",
    "        lines = x.split('\\n')\n",
    "        if len(lines) > 1 and '------------------------' in lines[1]:\n",
    "            intent = lines[0]\n",
    "            others = lines[2:]\n",
    "            intent_lines[intent] = others"
   ]
  },
  {
   "cell_type": "code",
   "execution_count": 23,
   "metadata": {},
   "outputs": [
    {
     "data": {
      "text/plain": [
       "88"
      ]
     },
     "execution_count": 23,
     "metadata": {},
     "output_type": "execute_result"
    }
   ],
   "source": [
    "len(intent_lines)"
   ]
  },
  {
   "cell_type": "code",
   "execution_count": 24,
   "metadata": {},
   "outputs": [
    {
     "name": "stdout",
     "output_type": "stream",
     "text": [
      "dict_keys(['Answer My question', 'Reaction Amused', 'Ok (General)', 'Emotion: WOW', 'Hungry', 'How are you', 'Hug', 'Greetings: Whatsup', 'Confirmation Cancel', 'Author', 'Find Song', 'Care the Language', 'Greetings whatsup', 'Life', 'Reaction indifferent', 'Reaction negative', 'Reaction positive', 'Swear', 'Reaction understanding', 'Refocus', 'Enjoyment', 'Color', 'Birth Date', 'I do not care', 'Real', 'Greetings: nice to see you', 'Ready', 'Random Cat', 'Busy', 'Reaction Indifferent', 'You Are Welcome', 'Annoying', 'Greetings: nice to talk to you', 'Origin', 'Interjection', 'Confirmation yes', 'Default Fallback', 'Good Night', 'Good Evening', 'Crazy', 'Bye (General)', 'Gaming Fact', 'Wrong', 'Name', 'Name agent change', 'Name Agent confirm', 'Name Agent Delete', 'Name Agent feedback bad', 'Name Agent feedback good', 'Name agent get', 'Name agent save', 'Name Agent spelling', 'Fired', 'NOT (General)', 'Chatbot', 'I need help', \"I'm dead\", 'Occupation', 'No problem', 'Thanks (General)', 'Bot Identity', 'Clever', 'Be Clever', 'Good', 'Bot Bad', 'Boring', 'Happy', 'Bad', 'Beautiful', 'Marry', 'Confirmation NO', 'Residence', 'Emotion: Ha Ha', 'Greetings: nice to meet you', 'Acquaintance', 'There', 'Well done', 'Good Morning', 'Bot Affection', 'Right', 'Bot Purpose', 'Hobby', 'Sure', 'Stop (General)', 'Default Welcome', 'Can you help', 'Friend', 'Languages'])\n"
     ]
    }
   ],
   "source": [
    "print(intent_lines.keys())"
   ]
  },
  {
   "cell_type": "code",
   "execution_count": 25,
   "metadata": {},
   "outputs": [],
   "source": [
    "import yaml\n",
    "with open('intent.yaml', 'w') as fp:\n",
    "    fp.write(yaml.dump(intent_lines))"
   ]
  },
  {
   "cell_type": "code",
   "execution_count": 29,
   "metadata": {},
   "outputs": [],
   "source": []
  },
  {
   "cell_type": "code",
   "execution_count": null,
   "metadata": {},
   "outputs": [],
   "source": []
  }
 ],
 "metadata": {
  "kernelspec": {
   "display_name": "Python 3",
   "language": "python",
   "name": "python3"
  },
  "language_info": {
   "codemirror_mode": {
    "name": "ipython",
    "version": 3
   },
   "file_extension": ".py",
   "mimetype": "text/x-python",
   "name": "python",
   "nbconvert_exporter": "python",
   "pygments_lexer": "ipython3",
   "version": "3.8.6"
  }
 },
 "nbformat": 4,
 "nbformat_minor": 4
}
